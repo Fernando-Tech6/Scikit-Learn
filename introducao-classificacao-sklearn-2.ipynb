{
 "metadata": {
  "language_info": {
   "codemirror_mode": {
    "name": "ipython",
    "version": 3
   },
   "file_extension": ".py",
   "mimetype": "text/x-python",
   "name": "python",
   "nbconvert_exporter": "python",
   "pygments_lexer": "ipython3",
   "version": "3.8.8"
  },
  "orig_nbformat": 4,
  "kernelspec": {
   "name": "python3",
   "display_name": "Python 3.8.8 64-bit ('base': conda)"
  },
  "interpreter": {
   "hash": "2a127176657e4f6bee09e0c70cef8b964ba9c93f57cbb82a7ce66a45234361ee"
  }
 },
 "nbformat": 4,
 "nbformat_minor": 2,
 "cells": [
  {
   "source": [
    "# Introdução a Machine Learning e Classificação com SkLearn - 2\n",
    "### Será utilizado uma fonte de dados para realizar para treinar um modelo."
   ],
   "cell_type": "markdown",
   "metadata": {}
  },
  {
   "cell_type": "code",
   "execution_count": null,
   "metadata": {},
   "outputs": [],
   "source": [
    "import pandas as pd\n",
    "\n",
    "uri = \"https://gist.githubusercontent.com/guilhermesilveira/2d2efa37d66b6c84a722ea627a897ced/raw/10968b997d885cbded1c92938c7a9912ba41c615/tracking.csv\"\n",
    "dados = pd.read_csv(uri)\n",
    "dados.head()"
   ]
  },
  {
   "cell_type": "code",
   "execution_count": null,
   "metadata": {},
   "outputs": [],
   "source": [
    "x= dados[[\"home\",\"how_it_works\",\"contact\"]]\n",
    "y= dados[[\"bought\"]]"
   ]
  },
  {
   "source": [
    "### Renomeando coluna"
   ],
   "cell_type": "markdown",
   "metadata": {}
  },
  {
   "cell_type": "code",
   "execution_count": null,
   "metadata": {},
   "outputs": [],
   "source": [
    "mapa = { \n",
    "    \"home\" : \"principal\",\n",
    "    \"how_it_works\" : \"como_funciona\",\n",
    "    \"contact\" : \"contato\",\n",
    "    \"bought\" : \"comprou\"\n",
    "}\n",
    "dados.rename(columns = mapa, inplace=True)\n",
    "dados.head()"
   ]
  },
  {
   "cell_type": "code",
   "execution_count": null,
   "metadata": {},
   "outputs": [],
   "source": [
    "\n",
    "x= dados[[\"principal\",\"como_funciona\",\"contato\"]]\n",
    "y= dados[[\"comprou\"]]\n",
    "\n",
    "x.head()"
   ]
  },
  {
   "source": [
    "### Irei utilizar  25% para testar o algoritmo e 75% para treinamento.\n"
   ],
   "cell_type": "markdown",
   "metadata": {}
  },
  {
   "cell_type": "code",
   "execution_count": null,
   "metadata": {},
   "outputs": [],
   "source": [
    "treino_x = x[:75]\n",
    "treino_x.shape"
   ]
  },
  {
   "cell_type": "code",
   "execution_count": null,
   "metadata": {},
   "outputs": [],
   "source": [
    "treino_x = x[:75]\n",
    "treino_y = y[:75]\n",
    "teste_x = x[75:]\n",
    "teste_y = y[75:]\n",
    "\n",
    "teste_y.shape\n",
    "\n",
    "print(f'Treinaremos com {len(treino_x)} elementos e testaremos com {len(teste_x)} elementos')"
   ]
  },
  {
   "cell_type": "code",
   "execution_count": null,
   "metadata": {},
   "outputs": [],
   "source": [
    "from sklearn.svm import LinearSVC"
   ]
  },
  {
   "cell_type": "code",
   "execution_count": null,
   "metadata": {},
   "outputs": [],
   "source": [
    "modelo = LinearSVC()\n",
    "modelo.fit(treino_x, treino_y)  # Realizo o treino"
   ]
  },
  {
   "cell_type": "code",
   "execution_count": null,
   "metadata": {},
   "outputs": [],
   "source": [
    "from sklearn.metrics import accuracy_score"
   ]
  },
  {
   "cell_type": "code",
   "execution_count": null,
   "metadata": {},
   "outputs": [],
   "source": [
    "previsoes = modelo.predict(teste_x)  # Realizo as previsões"
   ]
  },
  {
   "cell_type": "code",
   "execution_count": null,
   "metadata": {},
   "outputs": [],
   "source": [
    "acuracia = accuracy_score(teste_y, previsoes) * 100  # retorno a acuracia do modelo depois dos testes e previsoes.\n",
    "print(f'A Acurácia foi de {acuracia}') "
   ]
  },
  {
   "source": [
    "### Treino e teste de forma mais direta - Split"
   ],
   "cell_type": "markdown",
   "metadata": {}
  },
  {
   "cell_type": "code",
   "execution_count": 104,
   "metadata": {},
   "outputs": [],
   "source": [
    "from sklearn.model_selection import train_test_split"
   ]
  },
  {
   "cell_type": "code",
   "execution_count": 105,
   "metadata": {},
   "outputs": [
    {
     "output_type": "execute_result",
     "data": {
      "text/plain": [
       "[    principal  como_funciona  contato\n",
       " 82          0              0        1\n",
       " 10          1              1        0\n",
       " 74          0              0        1\n",
       " 4           1              1        0\n",
       " 72          0              0        1\n",
       " ..        ...            ...      ...\n",
       " 48          1              1        0\n",
       " 43          1              0        1\n",
       " 59          0              0        1\n",
       " 42          0              1        0\n",
       " 1           1              1        0\n",
       " \n",
       " [74 rows x 3 columns],\n",
       "     principal  como_funciona  contato\n",
       " 61          0              1        0\n",
       " 79          1              1        0\n",
       " 24          1              0        1\n",
       " 2           1              1        0\n",
       " 88          0              0        1\n",
       " 33          1              0        1\n",
       " 40          0              1        0\n",
       " 15          0              0        1\n",
       " 11          1              0        1\n",
       " 95          1              1        1\n",
       " 0           1              1        0\n",
       " 21          0              1        0\n",
       " 97          0              1        0\n",
       " 68          1              0        1\n",
       " 60          1              0        1\n",
       " 32          0              0        1\n",
       " 91          1              1        0\n",
       " 87          0              0        1\n",
       " 3           1              1        0\n",
       " 76          0              0        1\n",
       " 94          0              0        1\n",
       " 37          0              0        1\n",
       " 52          1              0        1\n",
       " 47          1              0        1\n",
       " 12          0              0        1,\n",
       "     comprou\n",
       " 82        0\n",
       " 10        1\n",
       " 74        0\n",
       " 4         0\n",
       " 72        0\n",
       " ..      ...\n",
       " 48        0\n",
       " 43        1\n",
       " 59        0\n",
       " 42        0\n",
       " 1         0\n",
       " \n",
       " [74 rows x 1 columns],\n",
       "     comprou\n",
       " 61        0\n",
       " 79        1\n",
       " 24        1\n",
       " 2         0\n",
       " 88        0\n",
       " 33        1\n",
       " 40        0\n",
       " 15        0\n",
       " 11        1\n",
       " 95        1\n",
       " 0         0\n",
       " 21        0\n",
       " 97        0\n",
       " 68        1\n",
       " 60        1\n",
       " 32        0\n",
       " 91        0\n",
       " 87        0\n",
       " 3         0\n",
       " 76        0\n",
       " 94        0\n",
       " 37        0\n",
       " 52        1\n",
       " 47        1\n",
       " 12        0]"
      ]
     },
     "metadata": {},
     "execution_count": 105
    }
   ],
   "source": [
    "train_test_split(x, y, test_size=0.25) # Colocar o tamanho do teste como 25%"
   ]
  },
  {
   "cell_type": "code",
   "execution_count": 106,
   "metadata": {},
   "outputs": [],
   "source": [
    "# Definir a ordem dos números aleatorios, para evitar que o split utiliza numero aleatorios para o teste e pode gerar resultados diferentes\n",
    "SEED = 20"
   ]
  },
  {
   "cell_type": "code",
   "execution_count": 107,
   "metadata": {},
   "outputs": [
    {
     "output_type": "stream",
     "name": "stdout",
     "text": [
      "Treinaremos com 74 elementos e testaremos com 25 elementos\n"
     ]
    }
   ],
   "source": [
    "treino_x, teste_x, treino_y, teste_y = train_test_split(x, y, random_state = SEED, test_size=0.25)\n",
    "print(f'Treinaremos com {len(treino_x)} elementos e testaremos com {len(teste_x)} elementos')"
   ]
  },
  {
   "cell_type": "code",
   "execution_count": 108,
   "metadata": {},
   "outputs": [
    {
     "output_type": "stream",
     "name": "stderr",
     "text": [
      "C:\\Users\\ferda\\anaconda3\\lib\\site-packages\\sklearn\\utils\\validation.py:63: DataConversionWarning: A column-vector y was passed when a 1d array was expected. Please change the shape of y to (n_samples, ), for example using ravel().\n  return f(*args, **kwargs)\n"
     ]
    }
   ],
   "source": [
    "modelo2 = LinearSVC()\n",
    "modelo2.fit(treino_x, treino_y)\n",
    "previsoes2 = modelo2.predict(teste_x)\n",
    "acuracia2 = accuracy_score(teste_y, previsoes2) * 100\n"
   ]
  },
  {
   "cell_type": "code",
   "execution_count": 109,
   "metadata": {},
   "outputs": [
    {
     "output_type": "stream",
     "name": "stdout",
     "text": [
      "A Acurácia foi de 96.0\n"
     ]
    }
   ],
   "source": [
    "print(f'A Acurácia foi de {acuracia2}') "
   ]
  },
  {
   "source": [
    "### O treino e o teste não estão conversando, pois a separação de teste e treino não está proporcional"
   ],
   "cell_type": "markdown",
   "metadata": {}
  },
  {
   "cell_type": "code",
   "execution_count": 111,
   "metadata": {},
   "outputs": [
    {
     "output_type": "stream",
     "name": "stdout",
     "text": [
      "comprou\n0          47\n1          27\ndtype: int64\ncomprou\n0          19\n1           6\ndtype: int64\n"
     ]
    }
   ],
   "source": [
    "print(treino_y.value_counts()) # 47/27 = 1,74 para cada pessoa que comprou\n",
    "print(teste_y.value_counts()) # 19/6 = 3,1 para cada pessoa que comprou"
   ]
  },
  {
   "cell_type": "code",
   "execution_count": 220,
   "metadata": {},
   "outputs": [
    {
     "output_type": "stream",
     "name": "stdout",
     "text": [
      "Treinaremos com 74 elementos e testaremos com 25 elementos\n",
      "C:\\Users\\ferda\\anaconda3\\lib\\site-packages\\sklearn\\utils\\validation.py:63: DataConversionWarning: A column-vector y was passed when a 1d array was expected. Please change the shape of y to (n_samples, ), for example using ravel().\n",
      "  return f(*args, **kwargs)\n"
     ]
    }
   ],
   "source": [
    "#É ADICIONADO O STRATIFY = Y  COMO ARGUMENTO, que irá estratificar os dados proporcionalmente de acordo com y\n",
    "treino_x, teste_x, treino_y, teste_y = train_test_split(x, y, stratify = y,\n",
    "random_state = SEED, test_size=0.25)\n",
    "\n",
    "print(f'Treinaremos com {len(treino_x)} elementos e testaremos com {len(teste_x)} elementos')\n",
    "\n",
    "modelo2 = LinearSVC()\n",
    "modelo2.fit(treino_x, treino_y)\n",
    "previsoes2 = modelo2.predict(teste_x)\n",
    "acuracia2 = accuracy_score(teste_y, previsoes2) * 100\n"
   ]
  },
  {
   "cell_type": "code",
   "execution_count": 221,
   "metadata": {},
   "outputs": [
    {
     "output_type": "stream",
     "name": "stdout",
     "text": [
      "A Acurácia foi de 96.0\n"
     ]
    }
   ],
   "source": [
    "\n",
    "print(f'A Acurácia foi de {acuracia2}') "
   ]
  },
  {
   "cell_type": "code",
   "execution_count": 222,
   "metadata": {},
   "outputs": [
    {
     "output_type": "stream",
     "name": "stdout",
     "text": [
      "comprou\n0          49\n1          25\ndtype: int64\ncomprou\n0          17\n1           8\ndtype: int64\n"
     ]
    }
   ],
   "source": [
    "print(treino_y.value_counts()) # 1,9\n",
    "print(teste_y.value_counts())  #2,1      "
   ]
  },
  {
   "cell_type": "code",
   "execution_count": null,
   "metadata": {},
   "outputs": [],
   "source": []
  }
 ]
}