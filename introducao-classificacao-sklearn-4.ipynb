{
 "metadata": {
  "language_info": {
   "codemirror_mode": {
    "name": "ipython",
    "version": 3
   },
   "file_extension": ".py",
   "mimetype": "text/x-python",
   "name": "python",
   "nbconvert_exporter": "python",
   "pygments_lexer": "ipython3",
   "version": "3.8.8"
  },
  "orig_nbformat": 4,
  "kernelspec": {
   "name": "python3",
   "display_name": "Python 3.8.8 64-bit ('base': conda)"
  },
  "interpreter": {
   "hash": "2a127176657e4f6bee09e0c70cef8b964ba9c93f57cbb82a7ce66a45234361ee"
  }
 },
 "nbformat": 4,
 "nbformat_minor": 2,
 "cells": [
  {
   "source": [
    "# Introdução a Machine Learning - Parte 4"
   ],
   "cell_type": "markdown",
   "metadata": {}
  },
  {
   "cell_type": "code",
   "execution_count": 4,
   "metadata": {},
   "outputs": [],
   "source": [
    "import pandas as pd"
   ]
  },
  {
   "cell_type": "code",
   "execution_count": 5,
   "metadata": {},
   "outputs": [
    {
     "output_type": "execute_result",
     "data": {
      "text/plain": [
       "   Unnamed: 0  mileage_per_year  model_year      price sold\n",
       "0           0             21801        2000   30941.02  yes\n",
       "1           1              7843        1998   40557.96  yes\n",
       "2           2              7109        2006   89627.50   no\n",
       "3           3             26823        2015   95276.14   no\n",
       "4           4              7935        2014  117384.68  yes"
      ],
      "text/html": "<div>\n<style scoped>\n    .dataframe tbody tr th:only-of-type {\n        vertical-align: middle;\n    }\n\n    .dataframe tbody tr th {\n        vertical-align: top;\n    }\n\n    .dataframe thead th {\n        text-align: right;\n    }\n</style>\n<table border=\"1\" class=\"dataframe\">\n  <thead>\n    <tr style=\"text-align: right;\">\n      <th></th>\n      <th>Unnamed: 0</th>\n      <th>mileage_per_year</th>\n      <th>model_year</th>\n      <th>price</th>\n      <th>sold</th>\n    </tr>\n  </thead>\n  <tbody>\n    <tr>\n      <th>0</th>\n      <td>0</td>\n      <td>21801</td>\n      <td>2000</td>\n      <td>30941.02</td>\n      <td>yes</td>\n    </tr>\n    <tr>\n      <th>1</th>\n      <td>1</td>\n      <td>7843</td>\n      <td>1998</td>\n      <td>40557.96</td>\n      <td>yes</td>\n    </tr>\n    <tr>\n      <th>2</th>\n      <td>2</td>\n      <td>7109</td>\n      <td>2006</td>\n      <td>89627.50</td>\n      <td>no</td>\n    </tr>\n    <tr>\n      <th>3</th>\n      <td>3</td>\n      <td>26823</td>\n      <td>2015</td>\n      <td>95276.14</td>\n      <td>no</td>\n    </tr>\n    <tr>\n      <th>4</th>\n      <td>4</td>\n      <td>7935</td>\n      <td>2014</td>\n      <td>117384.68</td>\n      <td>yes</td>\n    </tr>\n  </tbody>\n</table>\n</div>"
     },
     "metadata": {},
     "execution_count": 5
    }
   ],
   "source": [
    "uri = 'https://gist.githubusercontent.com/guilhermesilveira/4d1d4a16ccbf6ea4e0a64a38a24ec884/raw/afd05cb0c796d18f3f5a6537053ded308ba94bf7/car-prices.csv'\n",
    "\n",
    "df = pd.read_csv(uri)\n",
    "df.head()"
   ]
  },
  {
   "cell_type": "code",
   "execution_count": 6,
   "metadata": {},
   "outputs": [
    {
     "output_type": "execute_result",
     "data": {
      "text/plain": [
       "   Unnamed: 0  milhas_por_ano  ano_do_modelo      preco vendido\n",
       "0           0           21801           2000   30941.02     yes\n",
       "1           1            7843           1998   40557.96     yes\n",
       "2           2            7109           2006   89627.50      no\n",
       "3           3           26823           2015   95276.14      no\n",
       "4           4            7935           2014  117384.68     yes"
      ],
      "text/html": "<div>\n<style scoped>\n    .dataframe tbody tr th:only-of-type {\n        vertical-align: middle;\n    }\n\n    .dataframe tbody tr th {\n        vertical-align: top;\n    }\n\n    .dataframe thead th {\n        text-align: right;\n    }\n</style>\n<table border=\"1\" class=\"dataframe\">\n  <thead>\n    <tr style=\"text-align: right;\">\n      <th></th>\n      <th>Unnamed: 0</th>\n      <th>milhas_por_ano</th>\n      <th>ano_do_modelo</th>\n      <th>preco</th>\n      <th>vendido</th>\n    </tr>\n  </thead>\n  <tbody>\n    <tr>\n      <th>0</th>\n      <td>0</td>\n      <td>21801</td>\n      <td>2000</td>\n      <td>30941.02</td>\n      <td>yes</td>\n    </tr>\n    <tr>\n      <th>1</th>\n      <td>1</td>\n      <td>7843</td>\n      <td>1998</td>\n      <td>40557.96</td>\n      <td>yes</td>\n    </tr>\n    <tr>\n      <th>2</th>\n      <td>2</td>\n      <td>7109</td>\n      <td>2006</td>\n      <td>89627.50</td>\n      <td>no</td>\n    </tr>\n    <tr>\n      <th>3</th>\n      <td>3</td>\n      <td>26823</td>\n      <td>2015</td>\n      <td>95276.14</td>\n      <td>no</td>\n    </tr>\n    <tr>\n      <th>4</th>\n      <td>4</td>\n      <td>7935</td>\n      <td>2014</td>\n      <td>117384.68</td>\n      <td>yes</td>\n    </tr>\n  </tbody>\n</table>\n</div>"
     },
     "metadata": {},
     "execution_count": 6
    }
   ],
   "source": [
    "# Renomear colunas\n",
    "renomear = {\n",
    "    'mileage_per_year': 'milhas_por_ano',\n",
    "    'model_year': 'ano_do_modelo',\n",
    "    'price': 'preco',\n",
    "    'sold': 'vendido'\n",
    "}\n",
    "\n",
    "df = df.rename(columns = renomear)\n",
    "df.head()"
   ]
  },
  {
   "cell_type": "code",
   "execution_count": 7,
   "metadata": {},
   "outputs": [
    {
     "output_type": "execute_result",
     "data": {
      "text/plain": [
       "   Unnamed: 0  milhas_por_ano  ano_do_modelo      preco  vendido\n",
       "0           0           21801           2000   30941.02        1\n",
       "1           1            7843           1998   40557.96        1\n",
       "2           2            7109           2006   89627.50        0\n",
       "3           3           26823           2015   95276.14        0\n",
       "4           4            7935           2014  117384.68        1"
      ],
      "text/html": "<div>\n<style scoped>\n    .dataframe tbody tr th:only-of-type {\n        vertical-align: middle;\n    }\n\n    .dataframe tbody tr th {\n        vertical-align: top;\n    }\n\n    .dataframe thead th {\n        text-align: right;\n    }\n</style>\n<table border=\"1\" class=\"dataframe\">\n  <thead>\n    <tr style=\"text-align: right;\">\n      <th></th>\n      <th>Unnamed: 0</th>\n      <th>milhas_por_ano</th>\n      <th>ano_do_modelo</th>\n      <th>preco</th>\n      <th>vendido</th>\n    </tr>\n  </thead>\n  <tbody>\n    <tr>\n      <th>0</th>\n      <td>0</td>\n      <td>21801</td>\n      <td>2000</td>\n      <td>30941.02</td>\n      <td>1</td>\n    </tr>\n    <tr>\n      <th>1</th>\n      <td>1</td>\n      <td>7843</td>\n      <td>1998</td>\n      <td>40557.96</td>\n      <td>1</td>\n    </tr>\n    <tr>\n      <th>2</th>\n      <td>2</td>\n      <td>7109</td>\n      <td>2006</td>\n      <td>89627.50</td>\n      <td>0</td>\n    </tr>\n    <tr>\n      <th>3</th>\n      <td>3</td>\n      <td>26823</td>\n      <td>2015</td>\n      <td>95276.14</td>\n      <td>0</td>\n    </tr>\n    <tr>\n      <th>4</th>\n      <td>4</td>\n      <td>7935</td>\n      <td>2014</td>\n      <td>117384.68</td>\n      <td>1</td>\n    </tr>\n  </tbody>\n</table>\n</div>"
     },
     "metadata": {},
     "execution_count": 7
    }
   ],
   "source": [
    "df['vendido'].replace('yes', 1, inplace=True)\n",
    "df['vendido'].replace('no', 0, inplace=True)\n",
    "\n",
    "df.head()\n"
   ]
  },
  {
   "cell_type": "code",
   "execution_count": 8,
   "metadata": {},
   "outputs": [],
   "source": [
    "from datetime import datetime\n",
    " "
   ]
  },
  {
   "cell_type": "code",
   "execution_count": 9,
   "metadata": {},
   "outputs": [],
   "source": [
    "#ano_atual = datetime.today().year  Posso utilizar o ano atual, porém para seguir o exemplo do video será utilizado o ano de 2018\n",
    "#ano_atual"
   ]
  },
  {
   "cell_type": "code",
   "execution_count": 10,
   "metadata": {},
   "outputs": [
    {
     "output_type": "execute_result",
     "data": {
      "text/plain": [
       "   Unnamed: 0  milhas_por_ano  ano_do_modelo      preco  vendido  \\\n",
       "0           0           21801           2000   30941.02        1   \n",
       "1           1            7843           1998   40557.96        1   \n",
       "2           2            7109           2006   89627.50        0   \n",
       "3           3           26823           2015   95276.14        0   \n",
       "4           4            7935           2014  117384.68        1   \n",
       "\n",
       "   idade_do_modelo  \n",
       "0               18  \n",
       "1               20  \n",
       "2               12  \n",
       "3                3  \n",
       "4                4  "
      ],
      "text/html": "<div>\n<style scoped>\n    .dataframe tbody tr th:only-of-type {\n        vertical-align: middle;\n    }\n\n    .dataframe tbody tr th {\n        vertical-align: top;\n    }\n\n    .dataframe thead th {\n        text-align: right;\n    }\n</style>\n<table border=\"1\" class=\"dataframe\">\n  <thead>\n    <tr style=\"text-align: right;\">\n      <th></th>\n      <th>Unnamed: 0</th>\n      <th>milhas_por_ano</th>\n      <th>ano_do_modelo</th>\n      <th>preco</th>\n      <th>vendido</th>\n      <th>idade_do_modelo</th>\n    </tr>\n  </thead>\n  <tbody>\n    <tr>\n      <th>0</th>\n      <td>0</td>\n      <td>21801</td>\n      <td>2000</td>\n      <td>30941.02</td>\n      <td>1</td>\n      <td>18</td>\n    </tr>\n    <tr>\n      <th>1</th>\n      <td>1</td>\n      <td>7843</td>\n      <td>1998</td>\n      <td>40557.96</td>\n      <td>1</td>\n      <td>20</td>\n    </tr>\n    <tr>\n      <th>2</th>\n      <td>2</td>\n      <td>7109</td>\n      <td>2006</td>\n      <td>89627.50</td>\n      <td>0</td>\n      <td>12</td>\n    </tr>\n    <tr>\n      <th>3</th>\n      <td>3</td>\n      <td>26823</td>\n      <td>2015</td>\n      <td>95276.14</td>\n      <td>0</td>\n      <td>3</td>\n    </tr>\n    <tr>\n      <th>4</th>\n      <td>4</td>\n      <td>7935</td>\n      <td>2014</td>\n      <td>117384.68</td>\n      <td>1</td>\n      <td>4</td>\n    </tr>\n  </tbody>\n</table>\n</div>"
     },
     "metadata": {},
     "execution_count": 10
    }
   ],
   "source": [
    "df['idade_do_modelo'] = 2018 - df.ano_do_modelo\n",
    "df.head()"
   ]
  },
  {
   "cell_type": "code",
   "execution_count": 11,
   "metadata": {},
   "outputs": [
    {
     "output_type": "execute_result",
     "data": {
      "text/plain": [
       "   Unnamed: 0  milhas_por_ano  ano_do_modelo      preco  vendido  \\\n",
       "0           0           21801           2000   30941.02        1   \n",
       "1           1            7843           1998   40557.96        1   \n",
       "2           2            7109           2006   89627.50        0   \n",
       "3           3           26823           2015   95276.14        0   \n",
       "4           4            7935           2014  117384.68        1   \n",
       "\n",
       "   idade_do_modelo   km_por_ano  \n",
       "0               18  35085.22134  \n",
       "1               20  12622.05362  \n",
       "2               12  11440.79806  \n",
       "3                3  43167.32682  \n",
       "4                4  12770.11290  "
      ],
      "text/html": "<div>\n<style scoped>\n    .dataframe tbody tr th:only-of-type {\n        vertical-align: middle;\n    }\n\n    .dataframe tbody tr th {\n        vertical-align: top;\n    }\n\n    .dataframe thead th {\n        text-align: right;\n    }\n</style>\n<table border=\"1\" class=\"dataframe\">\n  <thead>\n    <tr style=\"text-align: right;\">\n      <th></th>\n      <th>Unnamed: 0</th>\n      <th>milhas_por_ano</th>\n      <th>ano_do_modelo</th>\n      <th>preco</th>\n      <th>vendido</th>\n      <th>idade_do_modelo</th>\n      <th>km_por_ano</th>\n    </tr>\n  </thead>\n  <tbody>\n    <tr>\n      <th>0</th>\n      <td>0</td>\n      <td>21801</td>\n      <td>2000</td>\n      <td>30941.02</td>\n      <td>1</td>\n      <td>18</td>\n      <td>35085.22134</td>\n    </tr>\n    <tr>\n      <th>1</th>\n      <td>1</td>\n      <td>7843</td>\n      <td>1998</td>\n      <td>40557.96</td>\n      <td>1</td>\n      <td>20</td>\n      <td>12622.05362</td>\n    </tr>\n    <tr>\n      <th>2</th>\n      <td>2</td>\n      <td>7109</td>\n      <td>2006</td>\n      <td>89627.50</td>\n      <td>0</td>\n      <td>12</td>\n      <td>11440.79806</td>\n    </tr>\n    <tr>\n      <th>3</th>\n      <td>3</td>\n      <td>26823</td>\n      <td>2015</td>\n      <td>95276.14</td>\n      <td>0</td>\n      <td>3</td>\n      <td>43167.32682</td>\n    </tr>\n    <tr>\n      <th>4</th>\n      <td>4</td>\n      <td>7935</td>\n      <td>2014</td>\n      <td>117384.68</td>\n      <td>1</td>\n      <td>4</td>\n      <td>12770.11290</td>\n    </tr>\n  </tbody>\n</table>\n</div>"
     },
     "metadata": {},
     "execution_count": 11
    }
   ],
   "source": [
    "# Converter milhas\n",
    "converte = 1.60934\n",
    "df['km_por_ano'] = df.milhas_por_ano * converte\n",
    "df.head()"
   ]
  },
  {
   "cell_type": "code",
   "execution_count": 12,
   "metadata": {},
   "outputs": [],
   "source": [
    "# Excluir colunas\n",
    "df = df.drop(columns=['Unnamed: 0', 'milhas_por_ano', 'ano_do_modelo'] )\n"
   ]
  },
  {
   "cell_type": "code",
   "execution_count": 13,
   "metadata": {},
   "outputs": [
    {
     "output_type": "execute_result",
     "data": {
      "text/plain": [
       "       preco  vendido  idade_do_modelo   km_por_ano\n",
       "0   30941.02        1               18  35085.22134\n",
       "1   40557.96        1               20  12622.05362\n",
       "2   89627.50        0               12  11440.79806\n",
       "3   95276.14        0                3  43167.32682\n",
       "4  117384.68        1                4  12770.11290"
      ],
      "text/html": "<div>\n<style scoped>\n    .dataframe tbody tr th:only-of-type {\n        vertical-align: middle;\n    }\n\n    .dataframe tbody tr th {\n        vertical-align: top;\n    }\n\n    .dataframe thead th {\n        text-align: right;\n    }\n</style>\n<table border=\"1\" class=\"dataframe\">\n  <thead>\n    <tr style=\"text-align: right;\">\n      <th></th>\n      <th>preco</th>\n      <th>vendido</th>\n      <th>idade_do_modelo</th>\n      <th>km_por_ano</th>\n    </tr>\n  </thead>\n  <tbody>\n    <tr>\n      <th>0</th>\n      <td>30941.02</td>\n      <td>1</td>\n      <td>18</td>\n      <td>35085.22134</td>\n    </tr>\n    <tr>\n      <th>1</th>\n      <td>40557.96</td>\n      <td>1</td>\n      <td>20</td>\n      <td>12622.05362</td>\n    </tr>\n    <tr>\n      <th>2</th>\n      <td>89627.50</td>\n      <td>0</td>\n      <td>12</td>\n      <td>11440.79806</td>\n    </tr>\n    <tr>\n      <th>3</th>\n      <td>95276.14</td>\n      <td>0</td>\n      <td>3</td>\n      <td>43167.32682</td>\n    </tr>\n    <tr>\n      <th>4</th>\n      <td>117384.68</td>\n      <td>1</td>\n      <td>4</td>\n      <td>12770.11290</td>\n    </tr>\n  </tbody>\n</table>\n</div>"
     },
     "metadata": {},
     "execution_count": 13
    }
   ],
   "source": [
    "df.head()"
   ]
  },
  {
   "source": [
    "### Classificando"
   ],
   "cell_type": "markdown",
   "metadata": {}
  },
  {
   "cell_type": "code",
   "execution_count": 14,
   "metadata": {},
   "outputs": [],
   "source": [
    "x = df[['preco','idade_do_modelo','km_por_ano']]\n",
    "y = df[['vendido']]"
   ]
  },
  {
   "cell_type": "code",
   "execution_count": 15,
   "metadata": {},
   "outputs": [
    {
     "output_type": "stream",
     "name": "stderr",
     "text": [
      "C:\\Users\\ferda\\anaconda3\\lib\\site-packages\\sklearn\\utils\\validation.py:63: DataConversionWarning: A column-vector y was passed when a 1d array was expected. Please change the shape of y to (n_samples, ), for example using ravel().\n",
      "  return f(*args, **kwargs)\n",
      "C:\\Users\\ferda\\anaconda3\\lib\\site-packages\\sklearn\\svm\\_base.py:985: ConvergenceWarning: Liblinear failed to converge, increase the number of iterations.\n",
      "  warnings.warn(\"Liblinear failed to converge, increase \"\n"
     ]
    }
   ],
   "source": [
    "from sklearn.model_selection import train_test_split\n",
    "from sklearn.svm import LinearSVC\n",
    "from sklearn.metrics import accuracy_score\n",
    "\n",
    "SEED = 20 \n",
    "\n",
    "treino_x, teste_x, treino_y, teste_y = train_test_split(x, y,stratify=y,random_state=SEED, \n",
    "test_size = 0.25) \n",
    "\n",
    "modelo = LinearSVC(random_state = SEED)  \n",
    "modelo.fit(treino_x, treino_y)\n",
    "\n",
    "previsoes = modelo.predict(teste_x)\n",
    "\n",
    "\n",
    "acuracia = accuracy_score(teste_y, previsoes) * 100\n"
   ]
  },
  {
   "cell_type": "code",
   "execution_count": 16,
   "metadata": {},
   "outputs": [
    {
     "output_type": "stream",
     "name": "stdout",
     "text": [
      "Treinaremos com 7500 elementos e testaremos com 2500 elementos\nA acuracia foi de  58.00%\n"
     ]
    }
   ],
   "source": [
    "\n",
    "print(f'Treinaremos com {len(treino_x)} elementos e testaremos com {len(teste_x)} elementos')\n",
    "print(f'A acuracia foi de % .2f%%' % acuracia)"
   ]
  },
  {
   "source": [
    "## Dummy Classifiers - Cria um baseline para testar a acuracia\n",
    "### Será criado dois Baseline seguindo argumentos fornecidos para o DummyClassifier\n",
    "### *stratified* - Gera previsões aleatorias\n",
    "### *most_frequent*  - Gera a previsão mais frequente"
   ],
   "cell_type": "markdown",
   "metadata": {}
  },
  {
   "cell_type": "code",
   "execution_count": 17,
   "metadata": {},
   "outputs": [],
   "source": [
    "from sklearn.dummy import DummyClassifier\n",
    "dummy = DummyClassifier(strategy='most_frequent')\n",
    "dummy.fit(treino_x, treino_y)\n",
    "prev = dummy.predict(teste_x)\n",
    "\n",
    "acuracia_dummy = accuracy_score(teste_y, prev) * 100"
   ]
  },
  {
   "cell_type": "code",
   "execution_count": 18,
   "metadata": {},
   "outputs": [
    {
     "output_type": "stream",
     "name": "stdout",
     "text": [
      "A acuracia do dummy MOST FREQUENT foi de  58.00%\n"
     ]
    }
   ],
   "source": [
    "print(f'A acuracia do dummy MOST FREQUENT foi de % .2f%%' % acuracia_dummy)"
   ]
  },
  {
   "cell_type": "code",
   "execution_count": 19,
   "metadata": {},
   "outputs": [],
   "source": [
    "from sklearn.dummy import DummyClassifier\n",
    "dummy = DummyClassifier(strategy='stratified')\n",
    "dummy.fit(treino_x, treino_y)\n",
    "prev = dummy.predict(teste_x)\n",
    "\n",
    "acuracia_dummy = accuracy_score(teste_y, prev) * 100"
   ]
  },
  {
   "cell_type": "code",
   "execution_count": 20,
   "metadata": {},
   "outputs": [
    {
     "output_type": "stream",
     "name": "stdout",
     "text": [
      "A acuracia do dummy STRATIFIED foi de  52.16%\n"
     ]
    }
   ],
   "source": [
    "print(f'A acuracia do dummy STRATIFIED foi de % .2f%%' % acuracia_dummy)"
   ]
  },
  {
   "cell_type": "code",
   "execution_count": 21,
   "metadata": {},
   "outputs": [
    {
     "output_type": "stream",
     "name": "stdout",
     "text": [
      "A acuracia do dummy direta foi de  51.16%\n"
     ]
    }
   ],
   "source": [
    "#FORMA MAIS DIRETA SEM UTILIZAR O PREDICT \n",
    "dummy = DummyClassifier(strategy='stratified')\n",
    "dummy.fit(treino_x, treino_y)\n",
    "acuracia_dummy = dummy.score(teste_x, teste_y) * 100 # Necessário passar o x e y\n",
    "\n",
    "print(f'A acuracia do dummy direta foi de % .2f%%' % acuracia_dummy)"
   ]
  },
  {
   "source": [
    "### Árvore de decisão e visualizando as decisões de um estimador"
   ],
   "cell_type": "markdown",
   "metadata": {}
  },
  {
   "cell_type": "code",
   "execution_count": 22,
   "metadata": {},
   "outputs": [
    {
     "output_type": "stream",
     "name": "stdout",
     "text": [
      "Requirement already satisfied: graphviz in c:\\users\\ferda\\anaconda3\\lib\\site-packages (0.16)\n"
     ]
    }
   ],
   "source": [
    "# importando o modo graphviz\n",
    "!pip install graphviz"
   ]
  },
  {
   "cell_type": "code",
   "execution_count": 23,
   "metadata": {},
   "outputs": [],
   "source": [
    "from sklearn.model_selection import train_test_split\n",
    "from sklearn.tree import DecisionTreeClassifier\n",
    "from sklearn.metrics import accuracy_score\n",
    "\n",
    "SEED = 20 \n",
    "\n",
    "treino_x, teste_x, treino_y, teste_y = train_test_split(x, y,stratify=y,random_state=SEED, \n",
    "test_size = 0.25) \n",
    "\n",
    "modelo = DecisionTreeClassifier(max_depth=2) #MAX_DEPTH - profundidade maxima de visualização da árvore\n",
    "modelo.fit(treino_x, treino_y)\n",
    "\n",
    "previsoes = modelo.predict(teste_x)\n",
    "\n",
    "\n",
    "acuracia = accuracy_score(teste_y, previsoes) * 100"
   ]
  },
  {
   "cell_type": "code",
   "execution_count": 24,
   "metadata": {},
   "outputs": [
    {
     "output_type": "stream",
     "name": "stdout",
     "text": [
      "Treinaremos com 7500 elementos e testaremos com 2500 elementos\nA acuracia foi de  75.84%\n"
     ]
    }
   ],
   "source": [
    "print(f'Treinaremos com {len(treino_x)} elementos e testaremos com {len(teste_x)} elementos')\n",
    "print(f'A acuracia foi de % .2f%%' % acuracia)"
   ]
  },
  {
   "cell_type": "code",
   "execution_count": 25,
   "metadata": {},
   "outputs": [],
   "source": [
    "# Exportar uma visualização\n",
    "from sklearn.tree import export_graphviz\n",
    "import graphviz"
   ]
  },
  {
   "cell_type": "code",
   "execution_count": 30,
   "metadata": {},
   "outputs": [
    {
     "output_type": "execute_result",
     "data": {
      "text/plain": [
       "<graphviz.files.Source at 0x1d60db8ab50>"
      ],
      "image/svg+xml": "<?xml version=\"1.0\" encoding=\"UTF-8\" standalone=\"no\"?>\r\n<!DOCTYPE svg PUBLIC \"-//W3C//DTD SVG 1.1//EN\"\r\n \"http://www.w3.org/Graphics/SVG/1.1/DTD/svg11.dtd\">\r\n<!-- Generated by graphviz version 2.38.0 (20140413.2041)\r\n -->\r\n<!-- Title: Tree Pages: 1 -->\r\n<svg width=\"554pt\" height=\"269pt\"\r\n viewBox=\"0.00 0.00 554.00 269.00\" xmlns=\"http://www.w3.org/2000/svg\" xmlns:xlink=\"http://www.w3.org/1999/xlink\">\r\n<g id=\"graph0\" class=\"graph\" transform=\"scale(1 1) rotate(0) translate(4 265)\">\r\n<title>Tree</title>\r\n<polygon fill=\"white\" stroke=\"none\" points=\"-4,4 -4,-265 550,-265 550,4 -4,4\"/>\r\n<!-- 0 -->\r\n<g id=\"node1\" class=\"node\"><title>0</title>\r\n<polygon fill=\"none\" stroke=\"black\" points=\"330,-261 199,-261 199,-193 330,-193 330,-261\"/>\r\n<text text-anchor=\"middle\" x=\"264.5\" y=\"-245.8\" font-family=\"Times New Roman,serif\" font-size=\"14.00\">X[0] &lt;= 59976.24</text>\r\n<text text-anchor=\"middle\" x=\"264.5\" y=\"-230.8\" font-family=\"Times New Roman,serif\" font-size=\"14.00\">gini = 0.487</text>\r\n<text text-anchor=\"middle\" x=\"264.5\" y=\"-215.8\" font-family=\"Times New Roman,serif\" font-size=\"14.00\">samples = 7500</text>\r\n<text text-anchor=\"middle\" x=\"264.5\" y=\"-200.8\" font-family=\"Times New Roman,serif\" font-size=\"14.00\">value = [3150, 4350]</text>\r\n</g>\r\n<!-- 1 -->\r\n<g id=\"node2\" class=\"node\"><title>1</title>\r\n<polygon fill=\"none\" stroke=\"black\" points=\"254,-157 129,-157 129,-89 254,-89 254,-157\"/>\r\n<text text-anchor=\"middle\" x=\"191.5\" y=\"-141.8\" font-family=\"Times New Roman,serif\" font-size=\"14.00\">X[0] &lt;= 40083.385</text>\r\n<text text-anchor=\"middle\" x=\"191.5\" y=\"-126.8\" font-family=\"Times New Roman,serif\" font-size=\"14.00\">gini = 0.198</text>\r\n<text text-anchor=\"middle\" x=\"191.5\" y=\"-111.8\" font-family=\"Times New Roman,serif\" font-size=\"14.00\">samples = 3261</text>\r\n<text text-anchor=\"middle\" x=\"191.5\" y=\"-96.8\" font-family=\"Times New Roman,serif\" font-size=\"14.00\">value = [364, 2897]</text>\r\n</g>\r\n<!-- 0&#45;&gt;1 -->\r\n<g id=\"edge1\" class=\"edge\"><title>0&#45;&gt;1</title>\r\n<path fill=\"none\" stroke=\"black\" d=\"M240.799,-192.884C234.552,-184.154 227.731,-174.625 221.211,-165.514\"/>\r\n<polygon fill=\"black\" stroke=\"black\" points=\"223.998,-163.394 215.332,-157.299 218.306,-167.468 223.998,-163.394\"/>\r\n<text text-anchor=\"middle\" x=\"211.245\" y=\"-178.263\" font-family=\"Times New Roman,serif\" font-size=\"14.00\">True</text>\r\n</g>\r\n<!-- 4 -->\r\n<g id=\"node5\" class=\"node\"><title>4</title>\r\n<polygon fill=\"none\" stroke=\"black\" points=\"403,-157 272,-157 272,-89 403,-89 403,-157\"/>\r\n<text text-anchor=\"middle\" x=\"337.5\" y=\"-141.8\" font-family=\"Times New Roman,serif\" font-size=\"14.00\">X[2] &lt;= 24124.006</text>\r\n<text text-anchor=\"middle\" x=\"337.5\" y=\"-126.8\" font-family=\"Times New Roman,serif\" font-size=\"14.00\">gini = 0.451</text>\r\n<text text-anchor=\"middle\" x=\"337.5\" y=\"-111.8\" font-family=\"Times New Roman,serif\" font-size=\"14.00\">samples = 4239</text>\r\n<text text-anchor=\"middle\" x=\"337.5\" y=\"-96.8\" font-family=\"Times New Roman,serif\" font-size=\"14.00\">value = [2786, 1453]</text>\r\n</g>\r\n<!-- 0&#45;&gt;4 -->\r\n<g id=\"edge4\" class=\"edge\"><title>0&#45;&gt;4</title>\r\n<path fill=\"none\" stroke=\"black\" d=\"M288.201,-192.884C294.448,-184.154 301.269,-174.625 307.789,-165.514\"/>\r\n<polygon fill=\"black\" stroke=\"black\" points=\"310.694,-167.468 313.668,-157.299 305.002,-163.394 310.694,-167.468\"/>\r\n<text text-anchor=\"middle\" x=\"317.755\" y=\"-178.263\" font-family=\"Times New Roman,serif\" font-size=\"14.00\">False</text>\r\n</g>\r\n<!-- 2 -->\r\n<g id=\"node3\" class=\"node\"><title>2</title>\r\n<polygon fill=\"none\" stroke=\"black\" points=\"111,-53 0,-53 0,-0 111,-0 111,-53\"/>\r\n<text text-anchor=\"middle\" x=\"55.5\" y=\"-37.8\" font-family=\"Times New Roman,serif\" font-size=\"14.00\">gini = 0.0</text>\r\n<text text-anchor=\"middle\" x=\"55.5\" y=\"-22.8\" font-family=\"Times New Roman,serif\" font-size=\"14.00\">samples = 1425</text>\r\n<text text-anchor=\"middle\" x=\"55.5\" y=\"-7.8\" font-family=\"Times New Roman,serif\" font-size=\"14.00\">value = [0, 1425]</text>\r\n</g>\r\n<!-- 1&#45;&gt;2 -->\r\n<g id=\"edge2\" class=\"edge\"><title>1&#45;&gt;2</title>\r\n<path fill=\"none\" stroke=\"black\" d=\"M143.934,-88.9485C129.978,-79.2516 114.757,-68.6752 100.938,-59.073\"/>\r\n<polygon fill=\"black\" stroke=\"black\" points=\"102.748,-56.0687 92.5391,-53.2367 98.754,-61.8172 102.748,-56.0687\"/>\r\n</g>\r\n<!-- 3 -->\r\n<g id=\"node4\" class=\"node\"><title>3</title>\r\n<polygon fill=\"none\" stroke=\"black\" points=\"254,-53 129,-53 129,-0 254,-0 254,-53\"/>\r\n<text text-anchor=\"middle\" x=\"191.5\" y=\"-37.8\" font-family=\"Times New Roman,serif\" font-size=\"14.00\">gini = 0.318</text>\r\n<text text-anchor=\"middle\" x=\"191.5\" y=\"-22.8\" font-family=\"Times New Roman,serif\" font-size=\"14.00\">samples = 1836</text>\r\n<text text-anchor=\"middle\" x=\"191.5\" y=\"-7.8\" font-family=\"Times New Roman,serif\" font-size=\"14.00\">value = [364, 1472]</text>\r\n</g>\r\n<!-- 1&#45;&gt;3 -->\r\n<g id=\"edge3\" class=\"edge\"><title>1&#45;&gt;3</title>\r\n<path fill=\"none\" stroke=\"black\" d=\"M191.5,-88.9485C191.5,-80.7153 191.5,-71.848 191.5,-63.4814\"/>\r\n<polygon fill=\"black\" stroke=\"black\" points=\"195,-63.2367 191.5,-53.2367 188,-63.2367 195,-63.2367\"/>\r\n</g>\r\n<!-- 5 -->\r\n<g id=\"node6\" class=\"node\"><title>5</title>\r\n<polygon fill=\"none\" stroke=\"black\" points=\"403,-53 272,-53 272,-0 403,-0 403,-53\"/>\r\n<text text-anchor=\"middle\" x=\"337.5\" y=\"-37.8\" font-family=\"Times New Roman,serif\" font-size=\"14.00\">gini = 0.498</text>\r\n<text text-anchor=\"middle\" x=\"337.5\" y=\"-22.8\" font-family=\"Times New Roman,serif\" font-size=\"14.00\">samples = 2627</text>\r\n<text text-anchor=\"middle\" x=\"337.5\" y=\"-7.8\" font-family=\"Times New Roman,serif\" font-size=\"14.00\">value = [1406, 1221]</text>\r\n</g>\r\n<!-- 4&#45;&gt;5 -->\r\n<g id=\"edge5\" class=\"edge\"><title>4&#45;&gt;5</title>\r\n<path fill=\"none\" stroke=\"black\" d=\"M337.5,-88.9485C337.5,-80.7153 337.5,-71.848 337.5,-63.4814\"/>\r\n<polygon fill=\"black\" stroke=\"black\" points=\"341,-63.2367 337.5,-53.2367 334,-63.2367 341,-63.2367\"/>\r\n</g>\r\n<!-- 6 -->\r\n<g id=\"node7\" class=\"node\"><title>6</title>\r\n<polygon fill=\"none\" stroke=\"black\" points=\"546,-53 421,-53 421,-0 546,-0 546,-53\"/>\r\n<text text-anchor=\"middle\" x=\"483.5\" y=\"-37.8\" font-family=\"Times New Roman,serif\" font-size=\"14.00\">gini = 0.246</text>\r\n<text text-anchor=\"middle\" x=\"483.5\" y=\"-22.8\" font-family=\"Times New Roman,serif\" font-size=\"14.00\">samples = 1612</text>\r\n<text text-anchor=\"middle\" x=\"483.5\" y=\"-7.8\" font-family=\"Times New Roman,serif\" font-size=\"14.00\">value = [1380, 232]</text>\r\n</g>\r\n<!-- 4&#45;&gt;6 -->\r\n<g id=\"edge6\" class=\"edge\"><title>4&#45;&gt;6</title>\r\n<path fill=\"none\" stroke=\"black\" d=\"M388.564,-88.9485C403.686,-79.1601 420.194,-68.4756 435.14,-58.8015\"/>\r\n<polygon fill=\"black\" stroke=\"black\" points=\"437.244,-61.6087 443.737,-53.2367 433.441,-55.7322 437.244,-61.6087\"/>\r\n</g>\r\n</g>\r\n</svg>\r\n"
     },
     "metadata": {},
     "execution_count": 30
    }
   ],
   "source": [
    "dot_data = export_graphviz(modelo, out_file=None)  #export_graphviz devolve o formato texto de uma gráfico\n",
    "grafico = graphviz.Source(dot_data)\n",
    "grafico"
   ]
  },
  {
   "cell_type": "code",
   "execution_count": 27,
   "metadata": {},
   "outputs": [
    {
     "output_type": "execute_result",
     "data": {
      "text/plain": [
       "<graphviz.files.Source at 0x1d60c9a8670>"
      ],
      "image/svg+xml": "<?xml version=\"1.0\" encoding=\"UTF-8\" standalone=\"no\"?>\r\n<!DOCTYPE svg PUBLIC \"-//W3C//DTD SVG 1.1//EN\"\r\n \"http://www.w3.org/Graphics/SVG/1.1/DTD/svg11.dtd\">\r\n<!-- Generated by graphviz version 2.38.0 (20140413.2041)\r\n -->\r\n<!-- Title: Tree Pages: 1 -->\r\n<svg width=\"565pt\" height=\"269pt\"\r\n viewBox=\"0.00 0.00 565.00 269.00\" xmlns=\"http://www.w3.org/2000/svg\" xmlns:xlink=\"http://www.w3.org/1999/xlink\">\r\n<g id=\"graph0\" class=\"graph\" transform=\"scale(1 1) rotate(0) translate(4 265)\">\r\n<title>Tree</title>\r\n<polygon fill=\"white\" stroke=\"none\" points=\"-4,4 -4,-265 561,-265 561,4 -4,4\"/>\r\n<!-- 0 -->\r\n<g id=\"node1\" class=\"node\"><title>0</title>\r\n<polygon fill=\"none\" stroke=\"black\" points=\"335,-261 204,-261 204,-193 335,-193 335,-261\"/>\r\n<text text-anchor=\"middle\" x=\"269.5\" y=\"-245.8\" font-family=\"Times New Roman,serif\" font-size=\"14.00\">preco &lt;= 59976.24</text>\r\n<text text-anchor=\"middle\" x=\"269.5\" y=\"-230.8\" font-family=\"Times New Roman,serif\" font-size=\"14.00\">gini = 0.487</text>\r\n<text text-anchor=\"middle\" x=\"269.5\" y=\"-215.8\" font-family=\"Times New Roman,serif\" font-size=\"14.00\">samples = 7500</text>\r\n<text text-anchor=\"middle\" x=\"269.5\" y=\"-200.8\" font-family=\"Times New Roman,serif\" font-size=\"14.00\">value = [3150, 4350]</text>\r\n</g>\r\n<!-- 1 -->\r\n<g id=\"node2\" class=\"node\"><title>1</title>\r\n<polygon fill=\"none\" stroke=\"black\" points=\"251,-157 120,-157 120,-89 251,-89 251,-157\"/>\r\n<text text-anchor=\"middle\" x=\"185.5\" y=\"-141.8\" font-family=\"Times New Roman,serif\" font-size=\"14.00\">preco &lt;= 40083.385</text>\r\n<text text-anchor=\"middle\" x=\"185.5\" y=\"-126.8\" font-family=\"Times New Roman,serif\" font-size=\"14.00\">gini = 0.198</text>\r\n<text text-anchor=\"middle\" x=\"185.5\" y=\"-111.8\" font-family=\"Times New Roman,serif\" font-size=\"14.00\">samples = 3261</text>\r\n<text text-anchor=\"middle\" x=\"185.5\" y=\"-96.8\" font-family=\"Times New Roman,serif\" font-size=\"14.00\">value = [364, 2897]</text>\r\n</g>\r\n<!-- 0&#45;&gt;1 -->\r\n<g id=\"edge1\" class=\"edge\"><title>0&#45;&gt;1</title>\r\n<path fill=\"none\" stroke=\"black\" d=\"M242.228,-192.884C234.965,-184.065 227.031,-174.43 219.458,-165.235\"/>\r\n<polygon fill=\"black\" stroke=\"black\" points=\"221.982,-162.794 212.923,-157.299 216.578,-167.244 221.982,-162.794\"/>\r\n<text text-anchor=\"middle\" x=\"210.515\" y=\"-178.483\" font-family=\"Times New Roman,serif\" font-size=\"14.00\">True</text>\r\n</g>\r\n<!-- 4 -->\r\n<g id=\"node5\" class=\"node\"><title>4</title>\r\n<polygon fill=\"none\" stroke=\"black\" points=\"439.5,-157 269.5,-157 269.5,-89 439.5,-89 439.5,-157\"/>\r\n<text text-anchor=\"middle\" x=\"354.5\" y=\"-141.8\" font-family=\"Times New Roman,serif\" font-size=\"14.00\">km_por_ano &lt;= 24124.006</text>\r\n<text text-anchor=\"middle\" x=\"354.5\" y=\"-126.8\" font-family=\"Times New Roman,serif\" font-size=\"14.00\">gini = 0.451</text>\r\n<text text-anchor=\"middle\" x=\"354.5\" y=\"-111.8\" font-family=\"Times New Roman,serif\" font-size=\"14.00\">samples = 4239</text>\r\n<text text-anchor=\"middle\" x=\"354.5\" y=\"-96.8\" font-family=\"Times New Roman,serif\" font-size=\"14.00\">value = [2786, 1453]</text>\r\n</g>\r\n<!-- 0&#45;&gt;4 -->\r\n<g id=\"edge4\" class=\"edge\"><title>0&#45;&gt;4</title>\r\n<path fill=\"none\" stroke=\"black\" d=\"M297.097,-192.884C304.446,-184.065 312.475,-174.43 320.137,-165.235\"/>\r\n<polygon fill=\"black\" stroke=\"black\" points=\"323.037,-167.222 326.751,-157.299 317.66,-162.741 323.037,-167.222\"/>\r\n<text text-anchor=\"middle\" x=\"329.014\" y=\"-178.497\" font-family=\"Times New Roman,serif\" font-size=\"14.00\">False</text>\r\n</g>\r\n<!-- 2 -->\r\n<g id=\"node3\" class=\"node\"><title>2</title>\r\n<polygon fill=\"none\" stroke=\"black\" points=\"111,-53 0,-53 0,-0 111,-0 111,-53\"/>\r\n<text text-anchor=\"middle\" x=\"55.5\" y=\"-37.8\" font-family=\"Times New Roman,serif\" font-size=\"14.00\">gini = 0.0</text>\r\n<text text-anchor=\"middle\" x=\"55.5\" y=\"-22.8\" font-family=\"Times New Roman,serif\" font-size=\"14.00\">samples = 1425</text>\r\n<text text-anchor=\"middle\" x=\"55.5\" y=\"-7.8\" font-family=\"Times New Roman,serif\" font-size=\"14.00\">value = [0, 1425]</text>\r\n</g>\r\n<!-- 1&#45;&gt;2 -->\r\n<g id=\"edge2\" class=\"edge\"><title>1&#45;&gt;2</title>\r\n<path fill=\"none\" stroke=\"black\" d=\"M140.032,-88.9485C126.819,-79.3431 112.418,-68.8747 99.3079,-59.345\"/>\r\n<polygon fill=\"black\" stroke=\"black\" points=\"101.052,-56.2856 90.905,-53.2367 96.9357,-61.9477 101.052,-56.2856\"/>\r\n</g>\r\n<!-- 3 -->\r\n<g id=\"node4\" class=\"node\"><title>3</title>\r\n<polygon fill=\"none\" stroke=\"black\" points=\"254,-53 129,-53 129,-0 254,-0 254,-53\"/>\r\n<text text-anchor=\"middle\" x=\"191.5\" y=\"-37.8\" font-family=\"Times New Roman,serif\" font-size=\"14.00\">gini = 0.318</text>\r\n<text text-anchor=\"middle\" x=\"191.5\" y=\"-22.8\" font-family=\"Times New Roman,serif\" font-size=\"14.00\">samples = 1836</text>\r\n<text text-anchor=\"middle\" x=\"191.5\" y=\"-7.8\" font-family=\"Times New Roman,serif\" font-size=\"14.00\">value = [364, 1472]</text>\r\n</g>\r\n<!-- 1&#45;&gt;3 -->\r\n<g id=\"edge3\" class=\"edge\"><title>1&#45;&gt;3</title>\r\n<path fill=\"none\" stroke=\"black\" d=\"M187.599,-88.9485C188.121,-80.7153 188.684,-71.848 189.215,-63.4814\"/>\r\n<polygon fill=\"black\" stroke=\"black\" points=\"192.725,-63.4384 189.866,-53.2367 185.739,-62.9948 192.725,-63.4384\"/>\r\n</g>\r\n<!-- 5 -->\r\n<g id=\"node6\" class=\"node\"><title>5</title>\r\n<polygon fill=\"none\" stroke=\"black\" points=\"414,-53 283,-53 283,-0 414,-0 414,-53\"/>\r\n<text text-anchor=\"middle\" x=\"348.5\" y=\"-37.8\" font-family=\"Times New Roman,serif\" font-size=\"14.00\">gini = 0.498</text>\r\n<text text-anchor=\"middle\" x=\"348.5\" y=\"-22.8\" font-family=\"Times New Roman,serif\" font-size=\"14.00\">samples = 2627</text>\r\n<text text-anchor=\"middle\" x=\"348.5\" y=\"-7.8\" font-family=\"Times New Roman,serif\" font-size=\"14.00\">value = [1406, 1221]</text>\r\n</g>\r\n<!-- 4&#45;&gt;5 -->\r\n<g id=\"edge5\" class=\"edge\"><title>4&#45;&gt;5</title>\r\n<path fill=\"none\" stroke=\"black\" d=\"M352.401,-88.9485C351.879,-80.7153 351.316,-71.848 350.785,-63.4814\"/>\r\n<polygon fill=\"black\" stroke=\"black\" points=\"354.261,-62.9948 350.134,-53.2367 347.275,-63.4384 354.261,-62.9948\"/>\r\n</g>\r\n<!-- 6 -->\r\n<g id=\"node7\" class=\"node\"><title>6</title>\r\n<polygon fill=\"none\" stroke=\"black\" points=\"557,-53 432,-53 432,-0 557,-0 557,-53\"/>\r\n<text text-anchor=\"middle\" x=\"494.5\" y=\"-37.8\" font-family=\"Times New Roman,serif\" font-size=\"14.00\">gini = 0.246</text>\r\n<text text-anchor=\"middle\" x=\"494.5\" y=\"-22.8\" font-family=\"Times New Roman,serif\" font-size=\"14.00\">samples = 1612</text>\r\n<text text-anchor=\"middle\" x=\"494.5\" y=\"-7.8\" font-family=\"Times New Roman,serif\" font-size=\"14.00\">value = [1380, 232]</text>\r\n</g>\r\n<!-- 4&#45;&gt;6 -->\r\n<g id=\"edge6\" class=\"edge\"><title>4&#45;&gt;6</title>\r\n<path fill=\"none\" stroke=\"black\" d=\"M403.465,-88.9485C417.831,-79.2516 433.5,-68.6752 447.725,-59.073\"/>\r\n<polygon fill=\"black\" stroke=\"black\" points=\"450.041,-61.7325 456.372,-53.2367 446.125,-55.9305 450.041,-61.7325\"/>\r\n</g>\r\n</g>\r\n</svg>\r\n"
     },
     "metadata": {},
     "execution_count": 27
    }
   ],
   "source": [
    "features = x.columns\n",
    "dot_data = export_graphviz(modelo, out_file=None, feature_names = features)  # Adicionar os nomes das features de acordo com as colunas\n",
    "grafico = graphviz.Source(dot_data)\n",
    "grafico"
   ]
  },
  {
   "cell_type": "code",
   "execution_count": 25,
   "metadata": {},
   "outputs": [
    {
     "output_type": "execute_result",
     "data": {
      "text/plain": [
       "<graphviz.files.Source at 0x26fc73ed220>"
      ],
      "image/svg+xml": "<?xml version=\"1.0\" encoding=\"UTF-8\" standalone=\"no\"?>\r\n<!DOCTYPE svg PUBLIC \"-//W3C//DTD SVG 1.1//EN\"\r\n \"http://www.w3.org/Graphics/SVG/1.1/DTD/svg11.dtd\">\r\n<!-- Generated by graphviz version 2.38.0 (20140413.2041)\r\n -->\r\n<!-- Title: Tree Pages: 1 -->\r\n<svg width=\"619pt\" height=\"269pt\"\r\n viewBox=\"0.00 0.00 619.00 269.00\" xmlns=\"http://www.w3.org/2000/svg\" xmlns:xlink=\"http://www.w3.org/1999/xlink\">\r\n<g id=\"graph0\" class=\"graph\" transform=\"scale(1 1) rotate(0) translate(4 265)\">\r\n<title>Tree</title>\r\n<polygon fill=\"white\" stroke=\"none\" points=\"-4,4 -4,-265 615,-265 615,4 -4,4\"/>\r\n<!-- 0 -->\r\n<g id=\"node1\" class=\"node\"><title>0</title>\r\n<path fill=\"#c8e4f8\" stroke=\"black\" d=\"M356,-261C356,-261 234,-261 234,-261 228,-261 222,-255 222,-249 222,-249 222,-205 222,-205 222,-199 228,-193 234,-193 234,-193 356,-193 356,-193 362,-193 368,-199 368,-205 368,-205 368,-249 368,-249 368,-255 362,-261 356,-261\"/>\r\n<text text-anchor=\"middle\" x=\"295\" y=\"-245.8\" font-family=\"Helvetica,sans-Serif\" font-size=\"14.00\">preco &lt;= 59976.24</text>\r\n<text text-anchor=\"middle\" x=\"295\" y=\"-230.8\" font-family=\"Helvetica,sans-Serif\" font-size=\"14.00\">gini = 0.487</text>\r\n<text text-anchor=\"middle\" x=\"295\" y=\"-215.8\" font-family=\"Helvetica,sans-Serif\" font-size=\"14.00\">samples = 7500</text>\r\n<text text-anchor=\"middle\" x=\"295\" y=\"-200.8\" font-family=\"Helvetica,sans-Serif\" font-size=\"14.00\">value = [3150, 4350]</text>\r\n</g>\r\n<!-- 1 -->\r\n<g id=\"node2\" class=\"node\"><title>1</title>\r\n<path fill=\"#52a9e8\" stroke=\"black\" d=\"M263.5,-157C263.5,-157 140.5,-157 140.5,-157 134.5,-157 128.5,-151 128.5,-145 128.5,-145 128.5,-101 128.5,-101 128.5,-95 134.5,-89 140.5,-89 140.5,-89 263.5,-89 263.5,-89 269.5,-89 275.5,-95 275.5,-101 275.5,-101 275.5,-145 275.5,-145 275.5,-151 269.5,-157 263.5,-157\"/>\r\n<text text-anchor=\"middle\" x=\"202\" y=\"-141.8\" font-family=\"Helvetica,sans-Serif\" font-size=\"14.00\">preco &lt;= 40083.385</text>\r\n<text text-anchor=\"middle\" x=\"202\" y=\"-126.8\" font-family=\"Helvetica,sans-Serif\" font-size=\"14.00\">gini = 0.198</text>\r\n<text text-anchor=\"middle\" x=\"202\" y=\"-111.8\" font-family=\"Helvetica,sans-Serif\" font-size=\"14.00\">samples = 3261</text>\r\n<text text-anchor=\"middle\" x=\"202\" y=\"-96.8\" font-family=\"Helvetica,sans-Serif\" font-size=\"14.00\">value = [364, 2897]</text>\r\n</g>\r\n<!-- 0&#45;&gt;1 -->\r\n<g id=\"edge1\" class=\"edge\"><title>0&#45;&gt;1</title>\r\n<path fill=\"none\" stroke=\"black\" d=\"M264.806,-192.884C256.684,-183.976 247.803,-174.235 239.343,-164.957\"/>\r\n<polygon fill=\"black\" stroke=\"black\" points=\"241.685,-162.331 232.361,-157.299 236.512,-167.047 241.685,-162.331\"/>\r\n<text text-anchor=\"middle\" x=\"231.209\" y=\"-178.573\" font-family=\"Helvetica,sans-Serif\" font-size=\"14.00\">True</text>\r\n</g>\r\n<!-- 4 -->\r\n<g id=\"node5\" class=\"node\"><title>4</title>\r\n<path fill=\"#f3c3a0\" stroke=\"black\" d=\"M472,-157C472,-157 306,-157 306,-157 300,-157 294,-151 294,-145 294,-145 294,-101 294,-101 294,-95 300,-89 306,-89 306,-89 472,-89 472,-89 478,-89 484,-95 484,-101 484,-101 484,-145 484,-145 484,-151 478,-157 472,-157\"/>\r\n<text text-anchor=\"middle\" x=\"389\" y=\"-141.8\" font-family=\"Helvetica,sans-Serif\" font-size=\"14.00\">km_por_ano &lt;= 24124.006</text>\r\n<text text-anchor=\"middle\" x=\"389\" y=\"-126.8\" font-family=\"Helvetica,sans-Serif\" font-size=\"14.00\">gini = 0.451</text>\r\n<text text-anchor=\"middle\" x=\"389\" y=\"-111.8\" font-family=\"Helvetica,sans-Serif\" font-size=\"14.00\">samples = 4239</text>\r\n<text text-anchor=\"middle\" x=\"389\" y=\"-96.8\" font-family=\"Helvetica,sans-Serif\" font-size=\"14.00\">value = [2786, 1453]</text>\r\n</g>\r\n<!-- 0&#45;&gt;4 -->\r\n<g id=\"edge4\" class=\"edge\"><title>0&#45;&gt;4</title>\r\n<path fill=\"none\" stroke=\"black\" d=\"M325.519,-192.884C333.81,-183.887 342.884,-174.041 351.512,-164.678\"/>\r\n<polygon fill=\"black\" stroke=\"black\" points=\"354.109,-167.025 358.312,-157.299 348.962,-162.281 354.109,-167.025\"/>\r\n<text text-anchor=\"middle\" x=\"359.332\" y=\"-178.579\" font-family=\"Helvetica,sans-Serif\" font-size=\"14.00\">False</text>\r\n</g>\r\n<!-- 2 -->\r\n<g id=\"node3\" class=\"node\"><title>2</title>\r\n<path fill=\"#399de5\" stroke=\"black\" d=\"M110,-53C110,-53 12,-53 12,-53 6,-53 7.10543e-015,-47 7.10543e-015,-41 7.10543e-015,-41 7.10543e-015,-12 7.10543e-015,-12 7.10543e-015,-6 6,-0 12,-0 12,-0 110,-0 110,-0 116,-0 122,-6 122,-12 122,-12 122,-41 122,-41 122,-47 116,-53 110,-53\"/>\r\n<text text-anchor=\"middle\" x=\"61\" y=\"-37.8\" font-family=\"Helvetica,sans-Serif\" font-size=\"14.00\">gini = 0.0</text>\r\n<text text-anchor=\"middle\" x=\"61\" y=\"-22.8\" font-family=\"Helvetica,sans-Serif\" font-size=\"14.00\">samples = 1425</text>\r\n<text text-anchor=\"middle\" x=\"61\" y=\"-7.8\" font-family=\"Helvetica,sans-Serif\" font-size=\"14.00\">value = [0, 1425]</text>\r\n</g>\r\n<!-- 1&#45;&gt;2 -->\r\n<g id=\"edge2\" class=\"edge\"><title>1&#45;&gt;2</title>\r\n<path fill=\"none\" stroke=\"black\" d=\"M152.685,-88.9485C138.217,-79.2516 122.436,-68.6752 108.109,-59.073\"/>\r\n<polygon fill=\"black\" stroke=\"black\" points=\"109.656,-55.8967 99.4008,-53.2367 105.759,-61.7115 109.656,-55.8967\"/>\r\n</g>\r\n<!-- 3 -->\r\n<g id=\"node4\" class=\"node\"><title>3</title>\r\n<path fill=\"#6ab5eb\" stroke=\"black\" d=\"M266,-53C266,-53 152,-53 152,-53 146,-53 140,-47 140,-41 140,-41 140,-12 140,-12 140,-6 146,-0 152,-0 152,-0 266,-0 266,-0 272,-0 278,-6 278,-12 278,-12 278,-41 278,-41 278,-47 272,-53 266,-53\"/>\r\n<text text-anchor=\"middle\" x=\"209\" y=\"-37.8\" font-family=\"Helvetica,sans-Serif\" font-size=\"14.00\">gini = 0.318</text>\r\n<text text-anchor=\"middle\" x=\"209\" y=\"-22.8\" font-family=\"Helvetica,sans-Serif\" font-size=\"14.00\">samples = 1836</text>\r\n<text text-anchor=\"middle\" x=\"209\" y=\"-7.8\" font-family=\"Helvetica,sans-Serif\" font-size=\"14.00\">value = [364, 1472]</text>\r\n</g>\r\n<!-- 1&#45;&gt;3 -->\r\n<g id=\"edge3\" class=\"edge\"><title>1&#45;&gt;3</title>\r\n<path fill=\"none\" stroke=\"black\" d=\"M204.448,-88.9485C205.058,-80.7153 205.715,-71.848 206.335,-63.4814\"/>\r\n<polygon fill=\"black\" stroke=\"black\" points=\"209.845,-63.468 207.094,-53.2367 202.864,-62.9508 209.845,-63.468\"/>\r\n</g>\r\n<!-- 5 -->\r\n<g id=\"node6\" class=\"node\"><title>5</title>\r\n<path fill=\"#fceee5\" stroke=\"black\" d=\"M443,-53C443,-53 321,-53 321,-53 315,-53 309,-47 309,-41 309,-41 309,-12 309,-12 309,-6 315,-0 321,-0 321,-0 443,-0 443,-0 449,-0 455,-6 455,-12 455,-12 455,-41 455,-41 455,-47 449,-53 443,-53\"/>\r\n<text text-anchor=\"middle\" x=\"382\" y=\"-37.8\" font-family=\"Helvetica,sans-Serif\" font-size=\"14.00\">gini = 0.498</text>\r\n<text text-anchor=\"middle\" x=\"382\" y=\"-22.8\" font-family=\"Helvetica,sans-Serif\" font-size=\"14.00\">samples = 2627</text>\r\n<text text-anchor=\"middle\" x=\"382\" y=\"-7.8\" font-family=\"Helvetica,sans-Serif\" font-size=\"14.00\">value = [1406, 1221]</text>\r\n</g>\r\n<!-- 4&#45;&gt;5 -->\r\n<g id=\"edge5\" class=\"edge\"><title>4&#45;&gt;5</title>\r\n<path fill=\"none\" stroke=\"black\" d=\"M386.552,-88.9485C385.942,-80.7153 385.285,-71.848 384.665,-63.4814\"/>\r\n<polygon fill=\"black\" stroke=\"black\" points=\"388.136,-62.9508 383.906,-53.2367 381.155,-63.468 388.136,-62.9508\"/>\r\n</g>\r\n<!-- 6 -->\r\n<g id=\"node7\" class=\"node\"><title>6</title>\r\n<path fill=\"#e9965a\" stroke=\"black\" d=\"M599,-53C599,-53 485,-53 485,-53 479,-53 473,-47 473,-41 473,-41 473,-12 473,-12 473,-6 479,-0 485,-0 485,-0 599,-0 599,-0 605,-0 611,-6 611,-12 611,-12 611,-41 611,-41 611,-47 605,-53 599,-53\"/>\r\n<text text-anchor=\"middle\" x=\"542\" y=\"-37.8\" font-family=\"Helvetica,sans-Serif\" font-size=\"14.00\">gini = 0.246</text>\r\n<text text-anchor=\"middle\" x=\"542\" y=\"-22.8\" font-family=\"Helvetica,sans-Serif\" font-size=\"14.00\">samples = 1612</text>\r\n<text text-anchor=\"middle\" x=\"542\" y=\"-7.8\" font-family=\"Helvetica,sans-Serif\" font-size=\"14.00\">value = [1380, 232]</text>\r\n</g>\r\n<!-- 4&#45;&gt;6 -->\r\n<g id=\"edge6\" class=\"edge\"><title>4&#45;&gt;6</title>\r\n<path fill=\"none\" stroke=\"black\" d=\"M442.512,-88.9485C458.508,-79.0686 475.982,-68.2758 491.76,-58.5305\"/>\r\n<polygon fill=\"black\" stroke=\"black\" points=\"493.662,-61.4695 500.331,-53.2367 489.984,-55.5139 493.662,-61.4695\"/>\r\n</g>\r\n</g>\r\n</svg>\r\n"
     },
     "metadata": {},
     "execution_count": 25
    }
   ],
   "source": [
    "features = x.columns\n",
    "dot_data = export_graphviz(modelo, out_file=None, feature_names = features, filled=True, rounded = True)  \n",
    "grafico = graphviz.Source(dot_data)\n",
    "grafico"
   ]
  },
  {
   "cell_type": "code",
   "execution_count": 26,
   "metadata": {},
   "outputs": [
    {
     "output_type": "execute_result",
     "data": {
      "text/plain": [
       "<graphviz.files.Source at 0x26fc84e4820>"
      ],
      "image/svg+xml": "<?xml version=\"1.0\" encoding=\"UTF-8\" standalone=\"no\"?>\r\n<!DOCTYPE svg PUBLIC \"-//W3C//DTD SVG 1.1//EN\"\r\n \"http://www.w3.org/Graphics/SVG/1.1/DTD/svg11.dtd\">\r\n<!-- Generated by graphviz version 2.38.0 (20140413.2041)\r\n -->\r\n<!-- Title: Tree Pages: 1 -->\r\n<svg width=\"619pt\" height=\"314pt\"\r\n viewBox=\"0.00 0.00 619.00 314.00\" xmlns=\"http://www.w3.org/2000/svg\" xmlns:xlink=\"http://www.w3.org/1999/xlink\">\r\n<g id=\"graph0\" class=\"graph\" transform=\"scale(1 1) rotate(0) translate(4 310)\">\r\n<title>Tree</title>\r\n<polygon fill=\"white\" stroke=\"none\" points=\"-4,4 -4,-310 615,-310 615,4 -4,4\"/>\r\n<!-- 0 -->\r\n<g id=\"node1\" class=\"node\"><title>0</title>\r\n<path fill=\"#c8e4f8\" stroke=\"black\" d=\"M356,-306C356,-306 234,-306 234,-306 228,-306 222,-300 222,-294 222,-294 222,-235 222,-235 222,-229 228,-223 234,-223 234,-223 356,-223 356,-223 362,-223 368,-229 368,-235 368,-235 368,-294 368,-294 368,-300 362,-306 356,-306\"/>\r\n<text text-anchor=\"middle\" x=\"295\" y=\"-290.8\" font-family=\"Helvetica,sans-Serif\" font-size=\"14.00\">preco &lt;= 59976.24</text>\r\n<text text-anchor=\"middle\" x=\"295\" y=\"-275.8\" font-family=\"Helvetica,sans-Serif\" font-size=\"14.00\">gini = 0.487</text>\r\n<text text-anchor=\"middle\" x=\"295\" y=\"-260.8\" font-family=\"Helvetica,sans-Serif\" font-size=\"14.00\">samples = 7500</text>\r\n<text text-anchor=\"middle\" x=\"295\" y=\"-245.8\" font-family=\"Helvetica,sans-Serif\" font-size=\"14.00\">value = [3150, 4350]</text>\r\n<text text-anchor=\"middle\" x=\"295\" y=\"-230.8\" font-family=\"Helvetica,sans-Serif\" font-size=\"14.00\">class = sim</text>\r\n</g>\r\n<!-- 1 -->\r\n<g id=\"node2\" class=\"node\"><title>1</title>\r\n<path fill=\"#52a9e8\" stroke=\"black\" d=\"M263.5,-187C263.5,-187 140.5,-187 140.5,-187 134.5,-187 128.5,-181 128.5,-175 128.5,-175 128.5,-116 128.5,-116 128.5,-110 134.5,-104 140.5,-104 140.5,-104 263.5,-104 263.5,-104 269.5,-104 275.5,-110 275.5,-116 275.5,-116 275.5,-175 275.5,-175 275.5,-181 269.5,-187 263.5,-187\"/>\r\n<text text-anchor=\"middle\" x=\"202\" y=\"-171.8\" font-family=\"Helvetica,sans-Serif\" font-size=\"14.00\">preco &lt;= 40083.385</text>\r\n<text text-anchor=\"middle\" x=\"202\" y=\"-156.8\" font-family=\"Helvetica,sans-Serif\" font-size=\"14.00\">gini = 0.198</text>\r\n<text text-anchor=\"middle\" x=\"202\" y=\"-141.8\" font-family=\"Helvetica,sans-Serif\" font-size=\"14.00\">samples = 3261</text>\r\n<text text-anchor=\"middle\" x=\"202\" y=\"-126.8\" font-family=\"Helvetica,sans-Serif\" font-size=\"14.00\">value = [364, 2897]</text>\r\n<text text-anchor=\"middle\" x=\"202\" y=\"-111.8\" font-family=\"Helvetica,sans-Serif\" font-size=\"14.00\">class = sim</text>\r\n</g>\r\n<!-- 0&#45;&gt;1 -->\r\n<g id=\"edge1\" class=\"edge\"><title>0&#45;&gt;1</title>\r\n<path fill=\"none\" stroke=\"black\" d=\"M262.734,-222.907C255.593,-213.923 247.956,-204.315 240.591,-195.05\"/>\r\n<polygon fill=\"black\" stroke=\"black\" points=\"243.171,-192.671 234.209,-187.021 237.691,-197.027 243.171,-192.671\"/>\r\n<text text-anchor=\"middle\" x=\"231.37\" y=\"-208.159\" font-family=\"Helvetica,sans-Serif\" font-size=\"14.00\">True</text>\r\n</g>\r\n<!-- 4 -->\r\n<g id=\"node5\" class=\"node\"><title>4</title>\r\n<path fill=\"#f3c3a0\" stroke=\"black\" d=\"M472,-187C472,-187 306,-187 306,-187 300,-187 294,-181 294,-175 294,-175 294,-116 294,-116 294,-110 300,-104 306,-104 306,-104 472,-104 472,-104 478,-104 484,-110 484,-116 484,-116 484,-175 484,-175 484,-181 478,-187 472,-187\"/>\r\n<text text-anchor=\"middle\" x=\"389\" y=\"-171.8\" font-family=\"Helvetica,sans-Serif\" font-size=\"14.00\">km_por_ano &lt;= 24124.006</text>\r\n<text text-anchor=\"middle\" x=\"389\" y=\"-156.8\" font-family=\"Helvetica,sans-Serif\" font-size=\"14.00\">gini = 0.451</text>\r\n<text text-anchor=\"middle\" x=\"389\" y=\"-141.8\" font-family=\"Helvetica,sans-Serif\" font-size=\"14.00\">samples = 4239</text>\r\n<text text-anchor=\"middle\" x=\"389\" y=\"-126.8\" font-family=\"Helvetica,sans-Serif\" font-size=\"14.00\">value = [2786, 1453]</text>\r\n<text text-anchor=\"middle\" x=\"389\" y=\"-111.8\" font-family=\"Helvetica,sans-Serif\" font-size=\"14.00\">class = não</text>\r\n</g>\r\n<!-- 0&#45;&gt;4 -->\r\n<g id=\"edge4\" class=\"edge\"><title>0&#45;&gt;4</title>\r\n<path fill=\"none\" stroke=\"black\" d=\"M327.613,-222.907C334.831,-213.923 342.55,-204.315 349.994,-195.05\"/>\r\n<polygon fill=\"black\" stroke=\"black\" points=\"352.91,-197.009 356.445,-187.021 347.453,-192.624 352.91,-197.009\"/>\r\n<text text-anchor=\"middle\" x=\"359.154\" y=\"-208.174\" font-family=\"Helvetica,sans-Serif\" font-size=\"14.00\">False</text>\r\n</g>\r\n<!-- 2 -->\r\n<g id=\"node3\" class=\"node\"><title>2</title>\r\n<path fill=\"#399de5\" stroke=\"black\" d=\"M110,-68C110,-68 12,-68 12,-68 6,-68 7.10543e-015,-62 7.10543e-015,-56 7.10543e-015,-56 7.10543e-015,-12 7.10543e-015,-12 7.10543e-015,-6 6,-0 12,-0 12,-0 110,-0 110,-0 116,-0 122,-6 122,-12 122,-12 122,-56 122,-56 122,-62 116,-68 110,-68\"/>\r\n<text text-anchor=\"middle\" x=\"61\" y=\"-52.8\" font-family=\"Helvetica,sans-Serif\" font-size=\"14.00\">gini = 0.0</text>\r\n<text text-anchor=\"middle\" x=\"61\" y=\"-37.8\" font-family=\"Helvetica,sans-Serif\" font-size=\"14.00\">samples = 1425</text>\r\n<text text-anchor=\"middle\" x=\"61\" y=\"-22.8\" font-family=\"Helvetica,sans-Serif\" font-size=\"14.00\">value = [0, 1425]</text>\r\n<text text-anchor=\"middle\" x=\"61\" y=\"-7.8\" font-family=\"Helvetica,sans-Serif\" font-size=\"14.00\">class = sim</text>\r\n</g>\r\n<!-- 1&#45;&gt;2 -->\r\n<g id=\"edge2\" class=\"edge\"><title>1&#45;&gt;2</title>\r\n<path fill=\"none\" stroke=\"black\" d=\"M149.497,-103.726C137.165,-94.1494 124.046,-83.9611 111.791,-74.4438\"/>\r\n<polygon fill=\"black\" stroke=\"black\" points=\"113.924,-71.6689 103.879,-68.2996 109.63,-77.1975 113.924,-71.6689\"/>\r\n</g>\r\n<!-- 3 -->\r\n<g id=\"node4\" class=\"node\"><title>3</title>\r\n<path fill=\"#6ab5eb\" stroke=\"black\" d=\"M266,-68C266,-68 152,-68 152,-68 146,-68 140,-62 140,-56 140,-56 140,-12 140,-12 140,-6 146,-0 152,-0 152,-0 266,-0 266,-0 272,-0 278,-6 278,-12 278,-12 278,-56 278,-56 278,-62 272,-68 266,-68\"/>\r\n<text text-anchor=\"middle\" x=\"209\" y=\"-52.8\" font-family=\"Helvetica,sans-Serif\" font-size=\"14.00\">gini = 0.318</text>\r\n<text text-anchor=\"middle\" x=\"209\" y=\"-37.8\" font-family=\"Helvetica,sans-Serif\" font-size=\"14.00\">samples = 1836</text>\r\n<text text-anchor=\"middle\" x=\"209\" y=\"-22.8\" font-family=\"Helvetica,sans-Serif\" font-size=\"14.00\">value = [364, 1472]</text>\r\n<text text-anchor=\"middle\" x=\"209\" y=\"-7.8\" font-family=\"Helvetica,sans-Serif\" font-size=\"14.00\">class = sim</text>\r\n</g>\r\n<!-- 1&#45;&gt;3 -->\r\n<g id=\"edge3\" class=\"edge\"><title>1&#45;&gt;3</title>\r\n<path fill=\"none\" stroke=\"black\" d=\"M204.607,-103.726C205.137,-95.4263 205.697,-86.6671 206.233,-78.2834\"/>\r\n<polygon fill=\"black\" stroke=\"black\" points=\"209.726,-78.5025 206.871,-68.2996 202.74,-78.0559 209.726,-78.5025\"/>\r\n</g>\r\n<!-- 5 -->\r\n<g id=\"node6\" class=\"node\"><title>5</title>\r\n<path fill=\"#fceee5\" stroke=\"black\" d=\"M443,-68C443,-68 321,-68 321,-68 315,-68 309,-62 309,-56 309,-56 309,-12 309,-12 309,-6 315,-0 321,-0 321,-0 443,-0 443,-0 449,-0 455,-6 455,-12 455,-12 455,-56 455,-56 455,-62 449,-68 443,-68\"/>\r\n<text text-anchor=\"middle\" x=\"382\" y=\"-52.8\" font-family=\"Helvetica,sans-Serif\" font-size=\"14.00\">gini = 0.498</text>\r\n<text text-anchor=\"middle\" x=\"382\" y=\"-37.8\" font-family=\"Helvetica,sans-Serif\" font-size=\"14.00\">samples = 2627</text>\r\n<text text-anchor=\"middle\" x=\"382\" y=\"-22.8\" font-family=\"Helvetica,sans-Serif\" font-size=\"14.00\">value = [1406, 1221]</text>\r\n<text text-anchor=\"middle\" x=\"382\" y=\"-7.8\" font-family=\"Helvetica,sans-Serif\" font-size=\"14.00\">class = não</text>\r\n</g>\r\n<!-- 4&#45;&gt;5 -->\r\n<g id=\"edge5\" class=\"edge\"><title>4&#45;&gt;5</title>\r\n<path fill=\"none\" stroke=\"black\" d=\"M386.393,-103.726C385.863,-95.4263 385.303,-86.6671 384.767,-78.2834\"/>\r\n<polygon fill=\"black\" stroke=\"black\" points=\"388.26,-78.0559 384.129,-68.2996 381.274,-78.5025 388.26,-78.0559\"/>\r\n</g>\r\n<!-- 6 -->\r\n<g id=\"node7\" class=\"node\"><title>6</title>\r\n<path fill=\"#e9965a\" stroke=\"black\" d=\"M599,-68C599,-68 485,-68 485,-68 479,-68 473,-62 473,-56 473,-56 473,-12 473,-12 473,-6 479,-0 485,-0 485,-0 599,-0 599,-0 605,-0 611,-6 611,-12 611,-12 611,-56 611,-56 611,-62 605,-68 599,-68\"/>\r\n<text text-anchor=\"middle\" x=\"542\" y=\"-52.8\" font-family=\"Helvetica,sans-Serif\" font-size=\"14.00\">gini = 0.246</text>\r\n<text text-anchor=\"middle\" x=\"542\" y=\"-37.8\" font-family=\"Helvetica,sans-Serif\" font-size=\"14.00\">samples = 1612</text>\r\n<text text-anchor=\"middle\" x=\"542\" y=\"-22.8\" font-family=\"Helvetica,sans-Serif\" font-size=\"14.00\">value = [1380, 232]</text>\r\n<text text-anchor=\"middle\" x=\"542\" y=\"-7.8\" font-family=\"Helvetica,sans-Serif\" font-size=\"14.00\">class = não</text>\r\n</g>\r\n<!-- 4&#45;&gt;6 -->\r\n<g id=\"edge6\" class=\"edge\"><title>4&#45;&gt;6</title>\r\n<path fill=\"none\" stroke=\"black\" d=\"M445.972,-103.726C459.48,-94.0582 473.86,-83.767 487.266,-74.172\"/>\r\n<polygon fill=\"black\" stroke=\"black\" points=\"489.377,-76.9657 495.472,-68.2996 485.303,-71.2734 489.377,-76.9657\"/>\r\n</g>\r\n</g>\r\n</svg>\r\n"
     },
     "metadata": {},
     "execution_count": 26
    }
   ],
   "source": [
    "features = x.columns\n",
    "dot_data = export_graphviz(modelo, out_file=None, feature_names = features, filled=True, rounded = True, class_names= ['não', 'sim'])  \n",
    "grafico = graphviz.Source(dot_data)\n",
    "grafico"
   ]
  }
 ]
}