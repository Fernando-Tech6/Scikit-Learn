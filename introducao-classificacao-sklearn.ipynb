{
 "metadata": {
  "language_info": {
   "codemirror_mode": {
    "name": "ipython",
    "version": 3
   },
   "file_extension": ".py",
   "mimetype": "text/x-python",
   "name": "python",
   "nbconvert_exporter": "python",
   "pygments_lexer": "ipython3",
   "version": "3.8.8"
  },
  "orig_nbformat": 4,
  "kernelspec": {
   "name": "python3",
   "display_name": "Python 3.8.8 64-bit ('base': conda)"
  },
  "interpreter": {
   "hash": "2a127176657e4f6bee09e0c70cef8b964ba9c93f57cbb82a7ce66a45234361ee"
  }
 },
 "nbformat": 4,
 "nbformat_minor": 2,
 "cells": [
  {
   "source": [],
   "cell_type": "markdown",
   "metadata": {}
  },
  {
   "source": [
    "# Introdução a Machine Learning e Classificação com SkLearn"
   ],
   "cell_type": "markdown",
   "metadata": {}
  },
  {
   "source": [
    "### Será criado um algoritmo para identificar e classificar oque é um porco e oque é um cachorro"
   ],
   "cell_type": "markdown",
   "metadata": {}
  },
  {
   "source": [
    "### Features (1 sim, 0 não) - *pelo longo? - perna curta? - faz auau?*\n"
   ],
   "cell_type": "markdown",
   "metadata": {}
  },
  {
   "cell_type": "code",
   "execution_count": 1,
   "metadata": {},
   "outputs": [],
   "source": [
    "\n",
    "porco1 = [0, 1, 0]\n",
    "porco2 = [0, 1, 1]\n",
    "porco3 = [1, 1, 0]"
   ]
  },
  {
   "cell_type": "code",
   "execution_count": 2,
   "metadata": {},
   "outputs": [],
   "source": [
    "cachorro1 = [0, 1, 1]\n",
    "cachorro2 = [1, 0, 1]\n",
    "cachorro3 = [1, 1, 1]\n"
   ]
  },
  {
   "source": [
    "### Classificação - 1 = Porco e 0 - Cachorro"
   ],
   "cell_type": "markdown",
   "metadata": {}
  },
  {
   "cell_type": "code",
   "execution_count": 3,
   "metadata": {},
   "outputs": [],
   "source": [
    "dados = [porco1, porco2, porco3, cachorro1, cachorro2, cachorro3]\n",
    "classes = [1,1,1,0,0,0]"
   ]
  },
  {
   "source": [
    "### Estimador da biblioteca SkLearn\n",
    "https://scikit-learn.org/stable/#"
   ],
   "cell_type": "markdown",
   "metadata": {}
  },
  {
   "cell_type": "code",
   "execution_count": 4,
   "metadata": {},
   "outputs": [],
   "source": [
    "from sklearn.svm import LinearSVC\n"
   ]
  },
  {
   "cell_type": "code",
   "execution_count": 5,
   "metadata": {},
   "outputs": [
    {
     "output_type": "execute_result",
     "data": {
      "text/plain": [
       "LinearSVC()"
      ]
     },
     "metadata": {},
     "execution_count": 5
    }
   ],
   "source": [
    "model = LinearSVC()\n",
    "model.fit(dados, classes)  #ADAPTAR O MODELO COM  OS DADOS E AS CLASSES"
   ]
  },
  {
   "cell_type": "code",
   "execution_count": 6,
   "metadata": {},
   "outputs": [
    {
     "output_type": "execute_result",
     "data": {
      "text/plain": [
       "array([0])"
      ]
     },
     "metadata": {},
     "execution_count": 6
    }
   ],
   "source": [
    "#TESTE\n",
    "animal_misterioso = [1,1,1]\n",
    "model.predict([animal_misterioso]) #Predict - Tentar prever qual é o animal.\n",
    "#O predict espera um array de 2 dimensões, quando se tem apenas um item é necessário passar uma lista\n",
    "# RESULTADO Cachoro"
   ]
  },
  {
   "cell_type": "code",
   "execution_count": 7,
   "metadata": {},
   "outputs": [
    {
     "output_type": "execute_result",
     "data": {
      "text/plain": [
       "array([0, 1, 0])"
      ]
     },
     "metadata": {},
     "execution_count": 7
    }
   ],
   "source": [
    "misterio1 = [1,1,1]\n",
    "misterio2 = [1,1,0]\n",
    "misterio3 = [0,1,1]\n",
    "\n",
    "teste = [misterio1, misterio2, misterio3]\n",
    "previsoes = model.predict(teste)\n",
    "previsoes\n",
    "#Resultado - cachorro, porco, cachorro"
   ]
  },
  {
   "cell_type": "code",
   "execution_count": 8,
   "metadata": {},
   "outputs": [],
   "source": [
    "teste_classes = [0, 1, 1] # Basicamente é o resultado pretendido"
   ]
  },
  {
   "cell_type": "code",
   "execution_count": 9,
   "metadata": {},
   "outputs": [
    {
     "output_type": "execute_result",
     "data": {
      "text/plain": [
       "array([ True,  True, False])"
      ]
     },
     "metadata": {},
     "execution_count": 9
    }
   ],
   "source": [
    "teste_classes == previsoes\n",
    "# Isso mostra que errou uma previsão de 3"
   ]
  },
  {
   "source": [
    "### Taxa de Acerto (accuracy) - A biblioteca SkLearn possui um método para prever os resultados.\n",
    " "
   ],
   "cell_type": "markdown",
   "metadata": {}
  },
  {
   "cell_type": "code",
   "execution_count": 10,
   "metadata": {},
   "outputs": [
    {
     "output_type": "error",
     "ename": "SyntaxError",
     "evalue": "invalid syntax (<ipython-input-10-f83adfeb5910>, line 1)",
     "traceback": [
      "\u001b[1;36m  File \u001b[1;32m\"<ipython-input-10-f83adfeb5910>\"\u001b[1;36m, line \u001b[1;32m1\u001b[0m\n\u001b[1;33m    from sklearn.metrics import\u001b[0m\n\u001b[1;37m                                ^\u001b[0m\n\u001b[1;31mSyntaxError\u001b[0m\u001b[1;31m:\u001b[0m invalid syntax\n"
     ]
    }
   ],
   "source": [
    "from sklearn.metrics import \n"
   ]
  },
  {
   "cell_type": "code",
   "execution_count": null,
   "metadata": {},
   "outputs": [],
   "source": [
    "taxa_de_acerto = accuracy_score(teste_classes, previsoes)\n",
    "print(\"Taxa de acerto\", taxa_de_acerto * 100)\n",
    "# 66%"
   ]
  },
  {
   "source": [
    "## Padronizando Nomes"
   ],
   "cell_type": "markdown",
   "metadata": {}
  },
  {
   "cell_type": "code",
   "execution_count": null,
   "metadata": {},
   "outputs": [],
   "source": [
    "# nomes utilizados normalmente em machine learning para treinar o modelo, X = Dados e Y = classes \n",
    "# treino em inglês train\n",
    "treino_x = [porco1, porco2, porco3, cachorro1, cachorro2, cachorro3]\n",
    "treino_y = [1,1,1,0,0,0] #também conhecido como labels/ etiquetas\n"
   ]
  },
  {
   "cell_type": "code",
   "execution_count": null,
   "metadata": {},
   "outputs": [],
   "source": [
    "# Testes\n",
    "teste_x = [misterio1, misterio2, misterio3]\n",
    "teste_y = [0, 1, 1]  # O modelo original"
   ]
  },
  {
   "cell_type": "code",
   "execution_count": null,
   "metadata": {},
   "outputs": [],
   "source": []
  }
 ]
}